{
 "cells": [
  {
   "cell_type": "code",
   "execution_count": 1,
   "metadata": {},
   "outputs": [],
   "source": [
    "import psycopg2"
   ]
  },
  {
   "attachments": {},
   "cell_type": "markdown",
   "metadata": {},
   "source": [
    "Create DB and Connection to the DB, create cursor to be used in queries and create automatic commit to be true so that each action is commited without using conn.commit()"
   ]
  },
  {
   "cell_type": "code",
   "execution_count": 2,
   "metadata": {},
   "outputs": [],
   "source": [
    "try:\n",
    "  conn = psycopg2.connect(\n",
    "    \"host=127.0.0.1 dbname=postgres user=postgres password=postgres\"\n",
    "  )\n",
    "except psycopg2.Error as e:\n",
    "  print(\"Error: Could not make connection to the Postgres Databases\")\n",
    "  print(e)\n",
    "\n",
    "try:\n",
    "  cur= conn.cursor()\n",
    "except psycopg2.Error as e:\n",
    "  print(\"Error: could not get cursor to the database\")\n",
    "  print(e)\n",
    "\n",
    "\n",
    "try:\n",
    "  cur.execute(\"create database cahayagadingdb\")\n",
    "except psycopg2.Error as e:\n",
    "  print(e)\n",
    "\n",
    "try:\n",
    "  conn = psycopg2.connect(\n",
    "    \"host=127.0.0.1 dbname=postgres user=cahayagadingdb password=postgres\"\n",
    "  )\n",
    "except psycopg2.Error as e:\n",
    "  print(\"Error: Could not make connection to the Postgres Databases\")\n",
    "  print(e)\n",
    "\n",
    "conn.set_session(autocommit=True)\n"
   ]
  },
  {
   "attachments": {},
   "cell_type": "markdown",
   "metadata": {},
   "source": [
    "Create Table for user_table, product_table, customer_table, and invoice_table"
   ]
  },
  {
   "cell_type": "code",
   "execution_count": null,
   "metadata": {},
   "outputs": [],
   "source": [
    "try:\n",
    "  cur.execute(\"CREATE TABLE product_table(\\\n",
    "    product_id int,product_name varchar,product_uom varchar,created_date date,\\\n",
    "    price_tag1 int, price_tag2 int, price_tag3 int, product_qty int)\")\n",
    "except psycopg2.Error as e:\n",
    "  print(\"Error: issue creating the table product_table\")\n",
    "  print(e)\n",
    "\n",
    "try:\n",
    "  cur.execute(\"CREATE TABLE user_table (user_id int, username varchar,\\\n",
    "    password varchar, created_date date, status boolean);\")\n",
    "except psycopg2.Error as e:\n",
    "  print(\"Error: Issue creating the table\")\n",
    "  print(e)\n",
    "\n",
    "try:\n",
    "  cur.execute(\"CREATE TABLE customer_table(\\\n",
    "    customer_id int,customer_name varchar,customer_address varchar,category int,\\\n",
    "    status_customer varchar, created_date date)\")\n",
    "except psycopg2.Error as e:\n",
    "  print(\"Error: issue creating the table customer_table\")\n",
    "  print(e)\n",
    "\n",
    "try:\n",
    "  cur.execute(\"CREATE TABLE invoice_table(\\\n",
    "    invoice_id varchar,customer_id int,product_id int,total_item int,\\\n",
    "    total_price int, status_transaction varchar, created_date date, created_by varchar, discount int)\")\n",
    "except psycopg2.Error as e:\n",
    "  print(\"Error: issue creating the table invoice_table\")\n",
    "  print(e) "
   ]
  },
  {
   "attachments": {},
   "cell_type": "markdown",
   "metadata": {},
   "source": [
    "Close cursor and Connection"
   ]
  },
  {
   "cell_type": "code",
   "execution_count": null,
   "metadata": {},
   "outputs": [],
   "source": [
    "cur.close()\n",
    "conn.close()"
   ]
  }
 ],
 "metadata": {
  "kernelspec": {
   "display_name": "Python 3",
   "language": "python",
   "name": "python3"
  },
  "language_info": {
   "codemirror_mode": {
    "name": "ipython",
    "version": 3
   },
   "file_extension": ".py",
   "mimetype": "text/x-python",
   "name": "python",
   "nbconvert_exporter": "python",
   "pygments_lexer": "ipython3",
   "version": "3.10.7"
  },
  "orig_nbformat": 4,
  "vscode": {
   "interpreter": {
    "hash": "2469a70536e4d2335a2ea8907942d0699c37342a371ac185bdb5b0aa6f073890"
   }
  }
 },
 "nbformat": 4,
 "nbformat_minor": 2
}
