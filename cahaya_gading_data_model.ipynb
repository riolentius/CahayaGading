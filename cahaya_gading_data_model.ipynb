{
 "cells": [
  {
   "cell_type": "code",
   "execution_count": 1,
   "metadata": {},
   "outputs": [],
   "source": [
    "import psycopg2\n",
    "import pandas as pd"
   ]
  },
  {
   "attachments": {},
   "cell_type": "markdown",
   "metadata": {},
   "source": [
    "Create DB and Connection to the DB, create cursor to be used in queries and create automatic commit to be true so that each action is commited without using conn.commit()"
   ]
  },
  {
   "cell_type": "code",
   "execution_count": 38,
   "metadata": {},
   "outputs": [],
   "source": [
    "try:\n",
    "  conn = psycopg2.connect(\n",
    "    \"host=127.0.0.1 dbname=postgres user=postgres password=postgres\"\n",
    "  )\n",
    "except psycopg2.Error as e:\n",
    "  print(\"Error: Could not make connection to the Postgres Databases\")\n",
    "  print(e)\n",
    "\n",
    "try:\n",
    "  cur= conn.cursor()\n",
    "except psycopg2.Error as e:\n",
    "  print(\"Error: could not get cursor to the database\")\n",
    "  print(e)\n",
    "\n",
    "conn.set_session(autocommit=True)"
   ]
  },
  {
   "attachments": {},
   "cell_type": "markdown",
   "metadata": {},
   "source": [
    "Create new DB name cahayagadingdb"
   ]
  },
  {
   "cell_type": "code",
   "execution_count": 39,
   "metadata": {},
   "outputs": [
    {
     "name": "stdout",
     "output_type": "stream",
     "text": [
      "database \"cahayagadingdb\" already exists\n",
      "\n"
     ]
    }
   ],
   "source": [
    "try:\n",
    "  cur.execute(\"create database cahayagadingdb\")\n",
    "except psycopg2.Error as e:\n",
    "  print(e)"
   ]
  },
  {
   "attachments": {},
   "cell_type": "markdown",
   "metadata": {},
   "source": [
    "Select cahayagadingdb as the main DB"
   ]
  },
  {
   "cell_type": "code",
   "execution_count": 40,
   "metadata": {},
   "outputs": [],
   "source": [
    "try:\n",
    "  conn = psycopg2.connect(\n",
    "    \"host=127.0.0.1 dbname=cahayagadingdb user=postgres password=postgres\"\n",
    "  )\n",
    "except psycopg2.Error as e:\n",
    "  print(\"Error: Could not make connection to the Postgres Databases\")\n",
    "  print(e)\n",
    "\n",
    "try:\n",
    "  cur= conn.cursor()\n",
    "except psycopg2.Error as e:\n",
    "  print(\"Error: could not get cursor to the database\")\n",
    "  print(e)\n",
    "\n",
    "conn.set_session(autocommit=True)"
   ]
  },
  {
   "attachments": {},
   "cell_type": "markdown",
   "metadata": {},
   "source": [
    "Create Table for user_table, product_table, customer_table, and invoice_table"
   ]
  },
  {
   "cell_type": "code",
   "execution_count": 41,
   "metadata": {},
   "outputs": [
    {
     "name": "stdout",
     "output_type": "stream",
     "text": [
      "Error: issue creating the table product_table\n",
      "relation \"product_table\" already exists\n",
      "\n",
      "Error: Issue creating the user_table\n",
      "relation \"user_table\" already exists\n",
      "\n",
      "Error: issue creating the table customer_table\n",
      "relation \"customer_table\" already exists\n",
      "\n",
      "Error: issue creating the table invoice_table\n",
      "relation \"invoice_table\" already exists\n",
      "\n"
     ]
    }
   ],
   "source": [
    "product_table_script = (\"CREATE TABLE product_table(\\\n",
    "    product_id int,product_name varchar,product_uom varchar,created_date date,\\\n",
    "    price_tag1 int, price_tag2 int, price_tag3 int, product_qty int, product_category varchar, product_cst int, product_status varchar)\")\n",
    "\n",
    "create_user_table = (\"CREATE TABLE user_table (user_id int, username varchar,\\\n",
    "    password varchar, created_date date, status boolean);\")\n",
    "\n",
    "create_customer_table = (\"CREATE TABLE customer_table(\\\n",
    "    customer_id int,customer_name varchar,customer_address varchar,category int,\\\n",
    "    status_customer varchar, created_date date)\")\n",
    "\n",
    "create_invoice_table = (\"CREATE TABLE invoice_table(\\\n",
    "    invoice_id varchar,customer_id int,product_id int,total_item int,\\\n",
    "    total_price int, status_transaction varchar, created_date date, created_by varchar, discount int)\")\n",
    "try:\n",
    "  cur.execute(product_table_script)\n",
    "except psycopg2.Error as e:\n",
    "  print(\"Error: issue creating the table product_table\")\n",
    "  print(e)\n",
    "\n",
    "try:\n",
    "  cur.execute(create_user_table)\n",
    "except psycopg2.Error as e:\n",
    "  print(\"Error: Issue creating the user_table\")\n",
    "  print(e)\n",
    "\n",
    "try:\n",
    "  cur.execute(create_customer_table)\n",
    "except psycopg2.Error as e:\n",
    "  print(\"Error: issue creating the table customer_table\")\n",
    "  print(e)\n",
    "\n",
    "try:\n",
    "  cur.execute(create_invoice_table)\n",
    "except psycopg2.Error as e:\n",
    "  print(\"Error: issue creating the table invoice_table\")\n",
    "  print(e) "
   ]
  },
  {
   "attachments": {},
   "cell_type": "markdown",
   "metadata": {},
   "source": [
    "Read CSV file to import into the database"
   ]
  },
  {
   "cell_type": "code",
   "execution_count": 42,
   "metadata": {},
   "outputs": [
    {
     "name": "stdout",
     "output_type": "stream",
     "text": [
      "   id   username     password created_date status\n",
      "0   1  admin1234    admin1212     1/6/2023      A\n",
      "1   2   test1212   testingall     1/6/2023      A\n",
      "2   3       gm14  goodmorning     1/6/2023      A\n",
      "3   4       gm15  goodmorning     1/6/2023      A\n",
      "4   5       gm16  goodmorning     1/6/2023      A\n"
     ]
    }
   ],
   "source": [
    "user_data = pd.read_csv(\"D:/Rio/Web_Dev/userid.csv\")\n",
    "customer_data = pd.read_csv(\"D:/Rio/Web_Dev/customer_table.csv\")\n",
    "product_data = pd.read_csv(\"D:/Rio/Web_Dev/Product_List.csv\")\n",
    "invoice_data = pd.read_csv(\"D:/Rio/Web_Dev/userid.csv\")\n",
    "\n",
    "print(user_data.head())"
   ]
  },
  {
   "attachments": {},
   "cell_type": "markdown",
   "metadata": {},
   "source": [
    "Input CSV file into the database"
   ]
  },
  {
   "cell_type": "code",
   "execution_count": 43,
   "metadata": {},
   "outputs": [],
   "source": [
    "user_id_insert = (\"\"\"INSERT INTO user_table (user_id,\n",
    "  username,\n",
    "  password,\n",
    "  created_date,\n",
    "  status) VALUES (\n",
    "    %s,%s,%s,%s,%s\n",
    "  )\n",
    "  \"\"\")\n",
    "\n",
    "customer_data_insert = (\"\"\"INSERT INTO customer_table (\n",
    "  customer_id, customer_name, customer_address, category, status_customer, created_date)\n",
    "  VALUES(\n",
    "    %s,%s,%s,%s,%s,%s)\n",
    "  \"\"\")\n",
    "\n",
    "product_data_insert = (\"\"\"INSERT INTO product_table (\n",
    "  product_int, product_name, product_uom, created_date, price_tag1, price_tag2, price_tag3, product_qty, product_category, product_cst, product_status)\n",
    "  VALUES (\n",
    "   %s,%s,%s,%s,%s,%s,%s,%s,%s,%s,%s\n",
    "  )\"\"\")\n",
    "\n",
    "invoice_data_insert = (\"\"\"INSERT INTO invoice_table (\n",
    "  invoice_id, customer_id, product_id, total_item, total_price, status_transaction, created_date, created_by, discount)\n",
    "  VALUES (\n",
    "    %s,%s,%s,%s,%s,%s,%s,%s,%s\n",
    "  )\n",
    "  \"\"\")\n",
    "\n",
    "for i, row in user_data.iterrows():\n",
    "  cur.execute(user_id_insert, list(row))\n",
    "\n",
    "for i, row in customer_data.iterrows():\n",
    "  cur.execute(customer_data_insert, list(row))\n",
    "\n",
    "for i, row in product_data.iterrows():\n",
    "  cur.execute(product_data_insert, list(row))\n",
    "\n",
    "for i, row in invoice_data.iterrows():\n",
    "  cur.execute(invoice_data_insert, list(row))"
   ]
  },
  {
   "attachments": {},
   "cell_type": "markdown",
   "metadata": {},
   "source": [
    "Close cursor and Connection"
   ]
  },
  {
   "cell_type": "code",
   "execution_count": 44,
   "metadata": {},
   "outputs": [],
   "source": [
    "cur.close()\n",
    "conn.close()"
   ]
  }
 ],
 "metadata": {
  "kernelspec": {
   "display_name": "Python 3",
   "language": "python",
   "name": "python3"
  },
  "language_info": {
   "codemirror_mode": {
    "name": "ipython",
    "version": 3
   },
   "file_extension": ".py",
   "mimetype": "text/x-python",
   "name": "python",
   "nbconvert_exporter": "python",
   "pygments_lexer": "ipython3",
   "version": "3.10.7"
  },
  "orig_nbformat": 4,
  "vscode": {
   "interpreter": {
    "hash": "2469a70536e4d2335a2ea8907942d0699c37342a371ac185bdb5b0aa6f073890"
   }
  }
 },
 "nbformat": 4,
 "nbformat_minor": 2
}
